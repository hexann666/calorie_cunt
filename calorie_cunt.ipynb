{
 "cells": [
  {
   "cell_type": "markdown",
   "metadata": {},
   "source": [
    "First you will provide your height, weight and age and calculate your Basal Metabolic Rate, the number of calories required to keep your body functioning at rest.\n",
    "\n",
    "Then after choosing your usual level of activity the Active Metabolic Rate, the number of calories that we consume on a daily basis depending on our height, sex, age, weight and entered activity level whilst maintaining current weight, will be calculated.\n",
    "\n",
    "source for the formulas https://www.verywellfit.com/how-many-calories-do-i-need-each-day-2506873"
   ]
  },
  {
   "cell_type": "code",
   "execution_count": 65,
   "metadata": {},
   "outputs": [
    {
     "name": "stdin",
     "output_type": "stream",
     "text": [
      "Please type in your height in cm, weight in full kg and age in years separated with space 180 65 30\n"
     ]
    },
    {
     "name": "stdout",
     "output_type": "stream",
     "text": [
      "your height = 180\n",
      "your weight = 65 \n",
      "your age = 30\n",
      "\n"
     ]
    },
    {
     "name": "stdin",
     "output_type": "stream",
     "text": [
      "Please provide your gender: m for men and w for women m\n"
     ]
    },
    {
     "name": "stdout",
     "output_type": "stream",
     "text": [
      "Your BMR is 1658.11 \n",
      "\n"
     ]
    },
    {
     "name": "stdin",
     "output_type": "stream",
     "text": [
      "Please choose your level of activity:\n",
      "1.2 little to no exercise                                                 \n",
      "1.37 light exercise 1–3 days a week                                                 \n",
      "1.55 moderate exercise 3–5 days a week                                                 \n",
      "1.725 hard exercises 6–7 days a week                                                 \n",
      "1.9 physically demanding job or particularly challenging exercise routine\n",
      "\n",
      " 1.55\n"
     ]
    },
    {
     "name": "stdout",
     "output_type": "stream",
     "text": [
      "\n",
      "To stay at your current weight you need to consume 2570.07 calories\n"
     ]
    }
   ],
   "source": [
    "# idea! add possibility to correct initial data\n",
    "height, weight, age = list(map(int, input('Please type in your height in cm, weight in full kg and age in years separated with space').split()))\n",
    "\n",
    "print(f'your height = {height}\\nyour weight = {weight} \\nyour age = {age}\\n')\n",
    "\n",
    "sex=input('Please provide your gender: m for men and w for women')\n",
    "# idea! errorcheck\n",
    "\n",
    "if sex == 'w':\n",
    "    bmr = float(655.1 + (9.563 * weight) + (1.850 * height) - (4.676 * age))\n",
    "    \n",
    "elif sex == 'm':\n",
    "    bmr = float(66.47 + (13.75 * weight) + (5.003 * height) - (6.755 * age))\n",
    "\n",
    "print(f'Your BMR is {bmr} \\n')\n",
    "\n",
    "act = float(input('Please choose your level of activity:\\n1.2 little to no exercise \\\n",
    "                                                \\n1.37 light exercise 1–3 days a week \\\n",
    "                                                \\n1.55 moderate exercise 3–5 days a week \\\n",
    "                                                \\n1.725 hard exercises 6–7 days a week \\\n",
    "                                                \\n1.9 physically demanding job or particularly challenging exercise routine\\n\\n'))\n",
    "\n",
    "amr = bmr * act\n",
    "# idea! make amr be printed out in different colour\n",
    "print(f'\\nTo stay at your current weight you need to consume {amr:.2f} calories')"
   ]
  },
  {
   "cell_type": "markdown",
   "metadata": {},
   "source": [
    "Process the list of MET (Metabolic Equivalent of Task) for different activities. The list will be used to calculate the kaloriec you burned during the day based on information about your current activities.\n",
    "\n",
    "MET value multiplied by weight in kilograms tells you calories burned per hour (MET*weight in kg=calories/hour). \n",
    "If you only want to know how many calories you burned in a half hour, divide that number by two. If you want to know about 15 minutes, divide that number by four.\n",
    "\n",
    "source: https://www.businessinsider.com.au/how-to-calculate-calories-burned-exercise-met-value-2017-8"
   ]
  },
  {
   "cell_type": "code",
   "execution_count": 66,
   "metadata": {},
   "outputs": [
    {
     "name": "stdout",
     "output_type": "stream",
     "text": [
      "Please provide your weight, height and age in the first part of the calculator\n"
     ]
    },
    {
     "name": "stdin",
     "output_type": "stream",
     "text": [
      "Type in the activity you were doing today: jumping\n"
     ]
    },
    {
     "name": "stdout",
     "output_type": "stream",
     "text": [
      "\n",
      "                   ACTIVITY                                    SPECIFIC MOTION  \\\n",
      "30   conditioning exercise  calisthenics (e.g., push ups, sit ups, pull-up...   \n",
      "565                 sports                          horseback riding, jumping   \n",
      "589                 sports         rope jumping, fast pace, 120-160 skips/min   \n",
      "590                 sports  rope jumping, moderate pace, 100-120 skips/min...   \n",
      "591                 sports  rope jumping, slow pace, < 100 skips/min, 2 fo...   \n",
      "602                 sports            skydiving, base jumping, bungee jumping   \n",
      "757      winter activities                ski jumping, climb up carrying skis   \n",
      "\n",
      "     METs  \n",
      "30    8.0  \n",
      "565   9.0  \n",
      "589  12.3  \n",
      "590  11.8  \n",
      "591   8.8  \n",
      "602   3.5  \n",
      "757   7.0  \n"
     ]
    },
    {
     "name": "stdin",
     "output_type": "stream",
     "text": [
      "\n",
      "Select MET of your activity from the list 589\n",
      "Type in the time of your activity for today in minutes: 30\n"
     ]
    },
    {
     "name": "stdout",
     "output_type": "stream",
     "text": [
      "Your Total Daily Energy Expenditure was 20975.5 kcal today, from which you burned 19142.5 kcal during your activity\n"
     ]
    }
   ],
   "source": [
    "print('Please provide your weight, height and age in the first part of the calculator')\n",
    "\n",
    "import pandas as pd\n",
    "import regex as re\n",
    "\n",
    "met_list = pd.read_csv('met_list_activities.csv',sep=';', encoding='ANSI', decimal=',', error_bad_lines=False)\n",
    "#source https://golf.procon.org/met-values-for-800-activities/\n",
    "\n",
    "# while met is zero, user can keep looking for his activity\n",
    "met, your_act = 0, ''\n",
    "\n",
    "# idea! add an option to add more than one daily activity\n",
    "while met == 0:\n",
    "    your_act = input('Type in the activity you were doing today:')\n",
    "    # cheking, if the typed activity is in the list of activities\n",
    "    if len(met_list[met_list['SPECIFIC MOTION'].str.contains(your_act)]) != 0:\n",
    "        print('\\n', met_list[met_list['SPECIFIC MOTION'].str.contains(your_act)])\n",
    "        met = float(input('\\nSelect MET of your activity from the list'))\n",
    "    else:\n",
    "        print('Please type again')\n",
    "time = int(input('Type in the time of your activity for today in minutes:'))\n",
    "\n",
    "#calculate calories burned during activity with chosen MET and calories burned during rest of the time with standard MET of 1.2\n",
    "burned_cal = met * weight * time/60\n",
    "bmr_cal = 1.2 * weight * (24 - time / 60)\n",
    "print('Your Total Daily Energy Expenditure was {} kcal today, from which you burned {} kcal during your activity'.format(round((burned_cal + bmr_cal), 2), burned_cal))"
   ]
  }
 ],
 "metadata": {
  "kernelspec": {
   "display_name": "Python 3",
   "language": "python",
   "name": "python3"
  },
  "language_info": {
   "codemirror_mode": {
    "name": "ipython",
    "version": 3
   },
   "file_extension": ".py",
   "mimetype": "text/x-python",
   "name": "python",
   "nbconvert_exporter": "python",
   "pygments_lexer": "ipython3",
   "version": "3.8.3"
  }
 },
 "nbformat": 4,
 "nbformat_minor": 4
}
